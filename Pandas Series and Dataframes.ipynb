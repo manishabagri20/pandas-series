{
 "cells": [
  {
   "cell_type": "markdown",
   "id": "40d17b03",
   "metadata": {},
   "source": [
    "# Pandas Series and Dataframes"
   ]
  },
  {
   "cell_type": "code",
   "execution_count": 1,
   "id": "97578057",
   "metadata": {},
   "outputs": [],
   "source": [
    "import pandas as pd\n",
    "import numpy as np"
   ]
  },
  {
   "cell_type": "code",
   "execution_count": 2,
   "id": "60288060",
   "metadata": {},
   "outputs": [],
   "source": [
    "list_1= [10,25,35]"
   ]
  },
  {
   "cell_type": "code",
   "execution_count": 4,
   "id": "9b6461d9",
   "metadata": {},
   "outputs": [
    {
     "data": {
      "text/plain": [
       "list"
      ]
     },
     "execution_count": 4,
     "metadata": {},
     "output_type": "execute_result"
    }
   ],
   "source": [
    "type(list_1)"
   ]
  },
  {
   "cell_type": "code",
   "execution_count": 5,
   "id": "9f6bb5a4",
   "metadata": {},
   "outputs": [],
   "source": [
    "x=np.array(list_1)"
   ]
  },
  {
   "cell_type": "code",
   "execution_count": 6,
   "id": "344a24d2",
   "metadata": {},
   "outputs": [
    {
     "data": {
      "text/plain": [
       "array([10, 25, 35])"
      ]
     },
     "execution_count": 6,
     "metadata": {},
     "output_type": "execute_result"
    }
   ],
   "source": [
    "x"
   ]
  },
  {
   "cell_type": "code",
   "execution_count": 7,
   "id": "aabb0a3d",
   "metadata": {},
   "outputs": [
    {
     "data": {
      "text/plain": [
       "numpy.ndarray"
      ]
     },
     "execution_count": 7,
     "metadata": {},
     "output_type": "execute_result"
    }
   ],
   "source": [
    "type(x)"
   ]
  },
  {
   "cell_type": "code",
   "execution_count": 12,
   "id": "6343115a",
   "metadata": {},
   "outputs": [
    {
     "data": {
      "text/plain": [
       "0    10\n",
       "1    25\n",
       "2    35\n",
       "dtype: int64"
      ]
     },
     "execution_count": 12,
     "metadata": {},
     "output_type": "execute_result"
    }
   ],
   "source": [
    "y=pd.Series(list_1)\n",
    "y"
   ]
  },
  {
   "cell_type": "code",
   "execution_count": 11,
   "id": "172bbd6a",
   "metadata": {},
   "outputs": [
    {
     "data": {
      "text/plain": [
       "pandas.core.series.Series"
      ]
     },
     "execution_count": 11,
     "metadata": {},
     "output_type": "execute_result"
    }
   ],
   "source": [
    "type(y)"
   ]
  },
  {
   "cell_type": "code",
   "execution_count": 13,
   "id": "c100d02a",
   "metadata": {},
   "outputs": [],
   "source": [
    "i_values = ['Best','Second Best','Third Best']\n",
    "list_1 = [10,25,35]\n",
    "\n",
    "\n",
    "one=pd.Series(data=list_1,index=i_values)"
   ]
  },
  {
   "cell_type": "code",
   "execution_count": 14,
   "id": "c3f1c48a",
   "metadata": {},
   "outputs": [
    {
     "data": {
      "text/plain": [
       "Best           10\n",
       "Second Best    25\n",
       "Third Best     35\n",
       "dtype: int64"
      ]
     },
     "execution_count": 14,
     "metadata": {},
     "output_type": "execute_result"
    }
   ],
   "source": [
    "one"
   ]
  },
  {
   "cell_type": "code",
   "execution_count": 15,
   "id": "22f8c384",
   "metadata": {},
   "outputs": [],
   "source": [
    "i_values = ['Best','Second Best','Forth Best']\n",
    "list_1 = [10,25,40]\n",
    "\n",
    "two = pd.Series(data=list_1,index=i_values)"
   ]
  },
  {
   "cell_type": "code",
   "execution_count": 16,
   "id": "87ac8ada",
   "metadata": {},
   "outputs": [],
   "source": [
    "total =one+two"
   ]
  },
  {
   "cell_type": "code",
   "execution_count": 17,
   "id": "c1450ef0",
   "metadata": {},
   "outputs": [
    {
     "data": {
      "text/plain": [
       "Best           20.0\n",
       "Forth Best      NaN\n",
       "Second Best    50.0\n",
       "Third Best      NaN\n",
       "dtype: float64"
      ]
     },
     "execution_count": 17,
     "metadata": {},
     "output_type": "execute_result"
    }
   ],
   "source": [
    "total"
   ]
  },
  {
   "cell_type": "code",
   "execution_count": 18,
   "id": "e0205c74",
   "metadata": {},
   "outputs": [
    {
     "data": {
      "text/plain": [
       "pandas.core.series.Series"
      ]
     },
     "execution_count": 18,
     "metadata": {},
     "output_type": "execute_result"
    }
   ],
   "source": [
    "type(total)"
   ]
  },
  {
   "cell_type": "code",
   "execution_count": 19,
   "id": "f4c03d12",
   "metadata": {},
   "outputs": [
    {
     "data": {
      "text/html": [
       "<div>\n",
       "<style scoped>\n",
       "    .dataframe tbody tr th:only-of-type {\n",
       "        vertical-align: middle;\n",
       "    }\n",
       "\n",
       "    .dataframe tbody tr th {\n",
       "        vertical-align: top;\n",
       "    }\n",
       "\n",
       "    .dataframe thead th {\n",
       "        text-align: right;\n",
       "    }\n",
       "</style>\n",
       "<table border=\"1\" class=\"dataframe\">\n",
       "  <thead>\n",
       "    <tr style=\"text-align: right;\">\n",
       "      <th></th>\n",
       "      <th>Flavor</th>\n",
       "      <th>Scoops</th>\n",
       "    </tr>\n",
       "  </thead>\n",
       "  <tbody>\n",
       "    <tr>\n",
       "      <th>Flavor 1</th>\n",
       "      <td>MCC</td>\n",
       "      <td>1</td>\n",
       "    </tr>\n",
       "    <tr>\n",
       "      <th>Flavor 2</th>\n",
       "      <td>Butterscotch</td>\n",
       "      <td>2</td>\n",
       "    </tr>\n",
       "    <tr>\n",
       "      <th>Flavor 3</th>\n",
       "      <td>Butter Pecan</td>\n",
       "      <td>3</td>\n",
       "    </tr>\n",
       "  </tbody>\n",
       "</table>\n",
       "</div>"
      ],
      "text/plain": [
       "                Flavor  Scoops\n",
       "Flavor 1           MCC       1\n",
       "Flavor 2  Butterscotch       2\n",
       "Flavor 3  Butter Pecan       3"
      ]
     },
     "execution_count": 19,
     "metadata": {},
     "output_type": "execute_result"
    }
   ],
   "source": [
    "ice_cream = [['MCC',1],['Butterscotch',2],['Butter Pecan',3]]\n",
    "\n",
    "\n",
    "ice_cream_dataframe = pd.DataFrame(ice_cream,index=['Flavor 1','Flavor 2','Flavor 3'], columns=('Flavor','Scoops'))\n",
    "\n",
    "ice_cream_dataframe"
   ]
  },
  {
   "cell_type": "code",
   "execution_count": 20,
   "id": "5fa3c6d4",
   "metadata": {},
   "outputs": [
    {
     "data": {
      "text/plain": [
       "pandas.core.frame.DataFrame"
      ]
     },
     "execution_count": 20,
     "metadata": {},
     "output_type": "execute_result"
    }
   ],
   "source": [
    "type(ice_cream_dataframe)"
   ]
  },
  {
   "cell_type": "code",
   "execution_count": 21,
   "id": "5aad1b73",
   "metadata": {},
   "outputs": [
    {
     "data": {
      "text/html": [
       "<div>\n",
       "<style scoped>\n",
       "    .dataframe tbody tr th:only-of-type {\n",
       "        vertical-align: middle;\n",
       "    }\n",
       "\n",
       "    .dataframe tbody tr th {\n",
       "        vertical-align: top;\n",
       "    }\n",
       "\n",
       "    .dataframe thead th {\n",
       "        text-align: right;\n",
       "    }\n",
       "</style>\n",
       "<table border=\"1\" class=\"dataframe\">\n",
       "  <thead>\n",
       "    <tr style=\"text-align: right;\">\n",
       "      <th></th>\n",
       "      <th>Flavor</th>\n",
       "      <th>Scoops</th>\n",
       "    </tr>\n",
       "  </thead>\n",
       "  <tbody>\n",
       "    <tr>\n",
       "      <th>Flavor 1</th>\n",
       "      <td>MCC</td>\n",
       "      <td>1</td>\n",
       "    </tr>\n",
       "    <tr>\n",
       "      <th>Flavor 2</th>\n",
       "      <td>Butterscotch</td>\n",
       "      <td>2</td>\n",
       "    </tr>\n",
       "    <tr>\n",
       "      <th>Flavor 3</th>\n",
       "      <td>Butter Pecan</td>\n",
       "      <td>3</td>\n",
       "    </tr>\n",
       "  </tbody>\n",
       "</table>\n",
       "</div>"
      ],
      "text/plain": [
       "                Flavor  Scoops\n",
       "Flavor 1           MCC       1\n",
       "Flavor 2  Butterscotch       2\n",
       "Flavor 3  Butter Pecan       3"
      ]
     },
     "execution_count": 21,
     "metadata": {},
     "output_type": "execute_result"
    }
   ],
   "source": [
    "ice_cream = ['MCC','Butterscotch','Butter Pecan']\n",
    "scoops = [1,2,3]\n",
    "\n",
    "dataframe_icecream = {'Flavor': ice_cream, 'Scoops': scoops}\n",
    "\n",
    "ice_cream_dataframe = pd.DataFrame(dataframe_icecream,index=['Flavor 1','Flavor 2','Flavor 3'] )\n",
    "ice_cream_dataframe"
   ]
  },
  {
   "cell_type": "code",
   "execution_count": null,
   "id": "26452ad8",
   "metadata": {},
   "outputs": [],
   "source": []
  }
 ],
 "metadata": {
  "kernelspec": {
   "display_name": "Python 3 (ipykernel)",
   "language": "python",
   "name": "python3"
  },
  "language_info": {
   "codemirror_mode": {
    "name": "ipython",
    "version": 3
   },
   "file_extension": ".py",
   "mimetype": "text/x-python",
   "name": "python",
   "nbconvert_exporter": "python",
   "pygments_lexer": "ipython3",
   "version": "3.10.9"
  }
 },
 "nbformat": 4,
 "nbformat_minor": 5
}
